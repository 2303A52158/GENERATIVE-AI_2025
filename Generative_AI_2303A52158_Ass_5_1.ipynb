{
  "nbformat": 4,
  "nbformat_minor": 0,
  "metadata": {
    "colab": {
      "provenance": [],
      "authorship_tag": "ABX9TyMARsQABnKkwUio6jbGSym6",
      "include_colab_link": true
    },
    "kernelspec": {
      "name": "python3",
      "display_name": "Python 3"
    },
    "language_info": {
      "name": "python"
    }
  },
  "cells": [
    {
      "cell_type": "markdown",
      "metadata": {
        "id": "view-in-github",
        "colab_type": "text"
      },
      "source": [
        "<a href=\"https://colab.research.google.com/github/2303A52158/GENERATIVE-AI_2025/blob/main/Generative_AI_2303A52158_Ass_5_1.ipynb\" target=\"_parent\"><img src=\"https://colab.research.google.com/assets/colab-badge.svg\" alt=\"Open In Colab\"/></a>"
      ]
    },
    {
      "cell_type": "markdown",
      "source": [
        "**1. (1 ponto) Design a multi-layer ANN architecture with one input, one hidden, and one output\n",
        "layer. Assume a linear activation function in the output layer and a sigmoid activation function\n",
        "in the hidden layer.**\n",
        "\n",
        "**• Write Python code for a backpropagation algorithm with gradient descent optimization to\n",
        "update weights and bias parameters of the ANN model with training data shown in Table\n",
        "1.**\n",
        "\n",
        "**• Calculate the mean square error with training and testing data shown in Table 2.**\n",
        "\n",
        "**• Write Python code that reads the input data [x1 and x2] from the user. Predict the output\n",
        "with deployed ANN model**\n",
        "\n",
        "                          Tabela 1: Training Data\n",
        "                            x1     x2       y\n",
        "                            0.1    0.2    0.3432\n",
        "                            0.2    0.3    0.3490\n",
        "                            0.3    0.4    0.3548\n",
        "                            0.6    0.7    0.3720\n",
        "                            0.7    0.8    0.3776\n",
        "                            0.8    0.9    0.3832\n",
        "\n",
        "                            Tabela 2: Test Data\n",
        "                            x1     x2       y\n",
        "                            0.4    0.5    0.3606\n",
        "                            0.5    0.6    0.3663\n"
      ],
      "metadata": {
        "id": "E6GmGljYnu51"
      }
    },
    {
      "cell_type": "code",
      "execution_count": 2,
      "metadata": {
        "colab": {
          "base_uri": "https://localhost:8080/"
        },
        "id": "qFiLSw0lnEu-",
        "outputId": "8f81fe79-d268-406d-b5d6-c1dac73f6b09"
      },
      "outputs": [
        {
          "output_type": "stream",
          "name": "stdout",
          "text": [
            "Training MSE: 6.907630522090756e-09\n",
            "Testing MSE: 2.2581651908844023e-08\n",
            "Testing MAE: 0.00015000000000001124\n",
            "Enter x1 and x2 (space-separated): 2.5 3.6\n",
            "Predicted Output: 0.18792326777037455\n"
          ]
        }
      ],
      "source": [
        "import numpy as np\n",
        "\n",
        "x_train = np.array([[0.1, 0.2], [0.2, 0.3], [0.3, 0.4], [0.6, 0.7], [0.7, 0.8], [0.8, 0.9]])\n",
        "y_train = np.array([[0.3432], [0.3490], [0.3548], [0.3720], [0.3776], [0.3832]])\n",
        "\n",
        "x_test = np.array([[0.4, 0.5], [0.5, 0.6]])\n",
        "y_test = np.array([[0.3606], [0.3663]])\n",
        "\n",
        "weights = np.random.rand(2, 1)\n",
        "bias = np.random.rand(1)\n",
        "\n",
        "learning_rate = 0.1\n",
        "\n",
        "for _ in range(5000):\n",
        "    predictions = np.dot(x_train, weights) + bias\n",
        "\n",
        "    error = y_train - predictions\n",
        "\n",
        "    weights += learning_rate * np.dot(x_train.T, error)\n",
        "    bias += learning_rate * np.sum(error)\n",
        "\n",
        "train_predictions = np.dot(x_train, weights) + bias\n",
        "train_mse = np.mean((y_train - train_predictions)**2)\n",
        "\n",
        "test_predictions = np.dot(x_test, weights) + bias\n",
        "test_mse = np.mean((y_test - test_predictions)**2)\n",
        "test_mae = np.mean(np.abs(y_test - test_predictions))\n",
        "\n",
        "print(\"Training MSE:\", train_mse)\n",
        "print(\"Testing MSE:\", test_mse)\n",
        "print(\"Testing MAE:\", test_mae)\n",
        "\n",
        "x1, x2 = map(float, input(\"Enter x1 and x2 (space-separated): \").split())\n",
        "new_input = np.array([[x1, x2]])\n",
        "prediction = np.dot(new_input, weights) + bias\n",
        "print(\"Predicted Output:\", prediction[0][0])"
      ]
    }
  ]
}