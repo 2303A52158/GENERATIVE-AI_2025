{
  "nbformat": 4,
  "nbformat_minor": 0,
  "metadata": {
    "colab": {
      "provenance": [],
      "authorship_tag": "ABX9TyPuOzml8sCKgse7nkgqkL4/",
      "include_colab_link": true
    },
    "kernelspec": {
      "name": "python3",
      "display_name": "Python 3"
    },
    "language_info": {
      "name": "python"
    }
  },
  "cells": [
    {
      "cell_type": "markdown",
      "metadata": {
        "id": "view-in-github",
        "colab_type": "text"
      },
      "source": [
        "<a href=\"https://colab.research.google.com/github/2303A52158/GENERATIVE-AI_2025/blob/main/Generative_AI_2303A52158_Ass_9_1.ipynb\" target=\"_parent\"><img src=\"https://colab.research.google.com/assets/colab-badge.svg\" alt=\"Open In Colab\"/></a>"
      ]
    },
    {
      "cell_type": "markdown",
      "source": [
        "**1. (1 ponto) Design a multilayer ANN architecture to identify the hand-written digits using the\n",
        "Keras deep learning library. Consider the MNIST data set**\n",
        "\n",
        "**2. (1 ponto) Calculate the accuracy with training and testing data**\n",
        "\n",
        "**3. (1 ponto) Also, change the architecture by tuning no. of hidden layers, no. of hidden neurons\n",
        "and activation functions in hidden layer. Identify best architecture in terms of testing accuracy**\n",
        "\n",
        "                        Tabela 1: ANN Architecture\n",
        "\n",
        "                        Layer       Neurons Activation Function\n",
        "                  Hidden Layer - 1    32            relu\n",
        "                  Hidden Layer - 2    32            relu\n",
        "                  Hidden Layer - 3    32            relu\n",
        "\n",
        "                        Tabela 2: Training Parameters\n",
        "\n",
        "                        epochs batch-size error-metric Optimizer\n",
        "                        10        128        accuracy   adadelta"
      ],
      "metadata": {
        "id": "XPjlxn2qZNGM"
      }
    },
    {
      "cell_type": "code",
      "execution_count": 1,
      "metadata": {
        "colab": {
          "base_uri": "https://localhost:8080/"
        },
        "id": "1ER350m2ZKeo",
        "outputId": "e634e08c-c325-4122-bfe7-8dc6634316f4"
      },
      "outputs": [
        {
          "output_type": "stream",
          "name": "stdout",
          "text": [
            "Downloading data from https://storage.googleapis.com/tensorflow/tf-keras-datasets/mnist.npz\n",
            "\u001b[1m11490434/11490434\u001b[0m \u001b[32m━━━━━━━━━━━━━━━━━━━━\u001b[0m\u001b[37m\u001b[0m \u001b[1m0s\u001b[0m 0us/step\n"
          ]
        },
        {
          "output_type": "stream",
          "name": "stderr",
          "text": [
            "/usr/local/lib/python3.11/dist-packages/keras/src/layers/reshaping/flatten.py:37: UserWarning: Do not pass an `input_shape`/`input_dim` argument to a layer. When using Sequential models, prefer using an `Input(shape)` object as the first layer in the model instead.\n",
            "  super().__init__(**kwargs)\n"
          ]
        },
        {
          "output_type": "stream",
          "name": "stdout",
          "text": [
            "Epoch 1/10\n",
            "\u001b[1m469/469\u001b[0m \u001b[32m━━━━━━━━━━━━━━━━━━━━\u001b[0m\u001b[37m\u001b[0m \u001b[1m15s\u001b[0m 16ms/step - accuracy: 0.1007 - loss: 2.3042 - val_accuracy: 0.1114 - val_loss: 2.2959\n",
            "Epoch 2/10\n",
            "\u001b[1m469/469\u001b[0m \u001b[32m━━━━━━━━━━━━━━━━━━━━\u001b[0m\u001b[37m\u001b[0m \u001b[1m6s\u001b[0m 6ms/step - accuracy: 0.1138 - loss: 2.2926 - val_accuracy: 0.1263 - val_loss: 2.2833\n",
            "Epoch 3/10\n",
            "\u001b[1m469/469\u001b[0m \u001b[32m━━━━━━━━━━━━━━━━━━━━\u001b[0m\u001b[37m\u001b[0m \u001b[1m2s\u001b[0m 4ms/step - accuracy: 0.1304 - loss: 2.2790 - val_accuracy: 0.1481 - val_loss: 2.2713\n",
            "Epoch 4/10\n",
            "\u001b[1m469/469\u001b[0m \u001b[32m━━━━━━━━━━━━━━━━━━━━\u001b[0m\u001b[37m\u001b[0m \u001b[1m3s\u001b[0m 5ms/step - accuracy: 0.1522 - loss: 2.2686 - val_accuracy: 0.1736 - val_loss: 2.2594\n",
            "Epoch 5/10\n",
            "\u001b[1m469/469\u001b[0m \u001b[32m━━━━━━━━━━━━━━━━━━━━\u001b[0m\u001b[37m\u001b[0m \u001b[1m2s\u001b[0m 4ms/step - accuracy: 0.1790 - loss: 2.2562 - val_accuracy: 0.2004 - val_loss: 2.2476\n",
            "Epoch 6/10\n",
            "\u001b[1m469/469\u001b[0m \u001b[32m━━━━━━━━━━━━━━━━━━━━\u001b[0m\u001b[37m\u001b[0m \u001b[1m3s\u001b[0m 4ms/step - accuracy: 0.2068 - loss: 2.2448 - val_accuracy: 0.2230 - val_loss: 2.2355\n",
            "Epoch 7/10\n",
            "\u001b[1m469/469\u001b[0m \u001b[32m━━━━━━━━━━━━━━━━━━━━\u001b[0m\u001b[37m\u001b[0m \u001b[1m4s\u001b[0m 6ms/step - accuracy: 0.2310 - loss: 2.2325 - val_accuracy: 0.2449 - val_loss: 2.2229\n",
            "Epoch 8/10\n",
            "\u001b[1m469/469\u001b[0m \u001b[32m━━━━━━━━━━━━━━━━━━━━\u001b[0m\u001b[37m\u001b[0m \u001b[1m4s\u001b[0m 4ms/step - accuracy: 0.2559 - loss: 2.2196 - val_accuracy: 0.2714 - val_loss: 2.2095\n",
            "Epoch 9/10\n",
            "\u001b[1m469/469\u001b[0m \u001b[32m━━━━━━━━━━━━━━━━━━━━\u001b[0m\u001b[37m\u001b[0m \u001b[1m2s\u001b[0m 4ms/step - accuracy: 0.2776 - loss: 2.2052 - val_accuracy: 0.2912 - val_loss: 2.1955\n",
            "Epoch 10/10\n",
            "\u001b[1m469/469\u001b[0m \u001b[32m━━━━━━━━━━━━━━━━━━━━\u001b[0m\u001b[37m\u001b[0m \u001b[1m3s\u001b[0m 4ms/step - accuracy: 0.2967 - loss: 2.1922 - val_accuracy: 0.3120 - val_loss: 2.1807\n",
            "\u001b[1m313/313\u001b[0m \u001b[32m━━━━━━━━━━━━━━━━━━━━\u001b[0m\u001b[37m\u001b[0m \u001b[1m1s\u001b[0m 2ms/step\n"
          ]
        },
        {
          "output_type": "stream",
          "name": "stderr",
          "text": [
            "WARNING:absl:You are saving your model as an HDF5 file via `model.save()` or `keras.saving.save_model(model)`. This file format is considered legacy. We recommend using instead the native Keras format, e.g. `model.save('my_model.keras')` or `keras.saving.save_model(model, 'my_model.keras')`. \n",
            "WARNING:absl:Compiled the loaded model, but the compiled metrics have yet to be built. `model.compile_metrics` will be empty until you train or evaluate the model.\n"
          ]
        },
        {
          "output_type": "stream",
          "name": "stdout",
          "text": [
            "Test Accuracy: 0.3120\n",
            "Confusion Matrix:\n",
            "[[718   0   1   0  44   4  57   0 143  13]\n",
            " [  6 622  12   1  14   8  76   0 381  15]\n",
            " [130 163  93   0 144   3 335   0 109  55]\n",
            " [319  83  56  21  64  15 161   1 140 150]\n",
            " [ 22  11   0   0 111  12 274   3 140 409]\n",
            " [276  29  12   5  33  16 186   0 260  75]\n",
            " [118   1   1   0 202   3 472   7  95  59]\n",
            " [ 12  78  32   2  67  19 147  29  72 570]\n",
            " [ 69 196   2   0  31   8 105   0 532  31]\n",
            " [ 21  25   9   0  94  23 230   4  97 506]]\n",
            "Classification Report:\n",
            "\u001b[1m1/1\u001b[0m \u001b[32m━━━━━━━━━━━━━━━━━━━━\u001b[0m\u001b[37m\u001b[0m \u001b[1m0s\u001b[0m 162ms/step\n",
            "Predicted Digit: 2\n"
          ]
        }
      ],
      "source": [
        "import numpy as np\n",
        "import tensorflow as tf\n",
        "from tensorflow.keras.models import Sequential\n",
        "from tensorflow.keras.layers import Dense, Flatten\n",
        "from tensorflow.keras.utils import to_categorical\n",
        "from tensorflow.keras.datasets import mnist\n",
        "from sklearn.metrics import accuracy_score, confusion_matrix, classification_report\n",
        "\n",
        "(X_train, y_train), (X_test, y_test) = mnist.load_data()\n",
        "\n",
        "X_train, X_test = X_train / 255.0, X_test / 255.0\n",
        "\n",
        "y_train = to_categorical(y_train, 10)\n",
        "y_test = to_categorical(y_test, 10)\n",
        "\n",
        "model = Sequential([\n",
        "    Flatten(input_shape=(28, 28)),\n",
        "    Dense(32, activation='relu'),\n",
        "    Dense(32, activation='relu'),\n",
        "    Dense(32, activation='relu'),\n",
        "    Dense(10, activation='softmax')\n",
        "])\n",
        "\n",
        "model.compile(optimizer='adadelta', loss='categorical_crossentropy', metrics=['accuracy'])\n",
        "\n",
        "model.fit(X_train, y_train, epochs=10, batch_size=128, validation_data=(X_test, y_test))\n",
        "\n",
        "y_pred = model.predict(X_test)\n",
        "y_pred_classes = np.argmax(y_pred, axis=1)\n",
        "y_true = np.argmax(y_test, axis=1)\n",
        "\n",
        "accuracy = accuracy_score(y_true, y_pred_classes)\n",
        "conf_matrix = confusion_matrix(y_true, y_pred_classes)\n",
        "report = classification_report(y_true, y_pred_classes)\n",
        "\n",
        "print(f\"Test Accuracy: {accuracy:.4f}\")\n",
        "print(\"Confusion Matrix:\")\n",
        "print(conf_matrix)\n",
        "print(\"Classification Report:\")\n",
        "\n",
        "model.save(\"mnist_model.h5\")\n",
        "\n",
        "def predict_digit(image):\n",
        "    model = tf.keras.models.load_model(\"mnist_model.h5\")\n",
        "    image = image.reshape(1, 28, 28) / 255.0\n",
        "    prediction = model.predict(image)\n",
        "    return np.argmax(prediction)\n",
        "\n",
        "sample_image = X_test[0]\n",
        "predicted_digit = predict_digit(sample_image)\n",
        "print(f\"Predicted Digit: {predicted_digit}\")\n"
      ]
    }
  ]
}