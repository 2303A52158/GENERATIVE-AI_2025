{
  "nbformat": 4,
  "nbformat_minor": 0,
  "metadata": {
    "colab": {
      "provenance": [],
      "authorship_tag": "ABX9TyNyTFQ7Z5+2MeHrrxTw/ybp",
      "include_colab_link": true
    },
    "kernelspec": {
      "name": "python3",
      "display_name": "Python 3"
    },
    "language_info": {
      "name": "python"
    }
  },
  "cells": [
    {
      "cell_type": "markdown",
      "metadata": {
        "id": "view-in-github",
        "colab_type": "text"
      },
      "source": [
        "<a href=\"https://colab.research.google.com/github/2303A52158/GENERATIVE-AI_2025/blob/main/Generative_AI_2303A52158_Ass_5_2.ipynb\" target=\"_parent\"><img src=\"https://colab.research.google.com/assets/colab-badge.svg\" alt=\"Open In Colab\"/></a>"
      ]
    },
    {
      "cell_type": "markdown",
      "source": [
        "**1. (1 ponto) Design a multi-layer ANN architecture with one input, one hidden, and one output\n",
        "layer. Assume a linear activation function in the output layer and a sigmoid activation function\n",
        "in the hidden layer.**\n",
        "\n",
        "**• Write Python code for a backpropagation algorithm with gradient descent optimization to\n",
        "update weights and bias parameters of the ANN model with training data shown in Table\n",
        "1.**\n",
        "\n",
        "**• Calculate the mean square error with training and testing data shown in Table 2.**\n",
        "\n",
        "**• Write Python code that reads the input data [x1 and x2] from the user. Predict the output\n",
        "with deployed ANN model**\n",
        "\n",
        "                                 Tabela 1: Training Data\n",
        "\n",
        "                                 x1     x2       y\n",
        "                                 0.2    0.1    0.3441\n",
        "                                 0.3    0.2    0.3500\n",
        "                                 0.4    0.3    0.3558\n",
        "                                 0.7    0.6    0.3729\n",
        "                                 0.8    0.7    0.3785\n",
        "                                 0.9    0.8    0.3841\n",
        "\n",
        "                                 Tabela 2: Test Data\n",
        "                                 x1     x2       y\n",
        "                                 0.5    0.4    0.3615\n",
        "                                 0.6    0.5    0.3672\n"
      ],
      "metadata": {
        "id": "DLnAgKu4wV_3"
      }
    },
    {
      "cell_type": "code",
      "execution_count": 2,
      "metadata": {
        "colab": {
          "base_uri": "https://localhost:8080/"
        },
        "id": "94sWgKOGvynT",
        "outputId": "7df55a86-d0f2-4917-d584-0cdb799fd7e5"
      },
      "outputs": [
        {
          "output_type": "stream",
          "name": "stdout",
          "text": [
            "Training MSE: 1.089692101740253e-08\n",
            "Testing MSE: 1.3628893082379556e-08\n",
            "Testing MAE: 0.00011666666666670933\n",
            "Enter x1 and x2 (space-separated): 3.5 4.5\n",
            "Predicted Output: 0.4250453175232828\n"
          ]
        }
      ],
      "source": [
        "import numpy as np\n",
        "\n",
        "x_train = np.array([[0.2, 0.1], [0.3, 0.2], [0.4, 0.3], [0.7, 0.6], [0.8, 0.7], [0.9, 0.8]])\n",
        "y_train = np.array([[0.3441], [0.3500], [0.3558], [0.3729], [0.3785], [0.3841]])\n",
        "\n",
        "x_test = np.array([[0.5, 0.4], [0.6, 0.5]])\n",
        "y_test = np.array([[0.3615], [0.3672]])\n",
        "\n",
        "weights = np.random.rand(2, 1)\n",
        "bias = np.random.rand(1)\n",
        "\n",
        "learning_rate = 0.1\n",
        "\n",
        "for _ in range(5000):\n",
        "\n",
        "    predictions = np.dot(x_train, weights) + bias\n",
        "    error = y_train - predictions\n",
        "\n",
        "    weights += learning_rate * np.dot(x_train.T, error)\n",
        "    bias += learning_rate * np.sum(error)\n",
        "\n",
        "train_predictions = np.dot(x_train, weights) + bias\n",
        "train_mse = np.mean((y_train - train_predictions)**2)\n",
        "\n",
        "test_predictions = np.dot(x_test, weights) + bias\n",
        "test_mse = np.mean((y_test - test_predictions)**2)\n",
        "test_mae = np.mean(np.abs(y_test - test_predictions))\n",
        "\n",
        "print(\"Training MSE:\", train_mse)\n",
        "print(\"Testing MSE:\", test_mse)\n",
        "print(\"Testing MAE:\", test_mae)\n",
        "\n",
        "x1, x2 = map(float, input(\"Enter x1 and x2 (space-separated): \").split())\n",
        "new_input = np.array([[x1, x2]])\n",
        "prediction = np.dot(new_input, weights) + bias\n",
        "print(\"Predicted Output:\", prediction[0][0])"
      ]
    }
  ]
}